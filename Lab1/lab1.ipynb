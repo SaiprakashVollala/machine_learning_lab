{
 "cells": [
  {
   "cell_type": "code",
   "execution_count": 73,
   "metadata": {},
   "outputs": [
    {
     "name": "stdout",
     "output_type": "stream",
     "text": [
      "      name      age\n",
      "0  column1  column2\n",
      "1  Krishna       20\n",
      "2  Vardhan       20\n"
     ]
    }
   ],
   "source": [
    "import pandas as pd\n",
    "\n",
    "df={\n",
    "    'name':[\"column1\",\"Krishna\",\"Vardhan\"],\n",
    "    'age':[\"column2\",\"20\",\"20\"]\n",
    "}\n",
    "print(pd.DataFrame(df))"
   ]
  },
  {
   "cell_type": "code",
   "execution_count": 74,
   "metadata": {},
   "outputs": [
    {
     "name": "stdout",
     "output_type": "stream",
     "text": [
      "   TransactionID TransactionDate  UserID  ProductID  Quantity\n",
      "0              1      2010-08-21     7.0          2         1\n",
      "1              2      2011-05-26     3.0          4         1\n",
      "2              3      2011-06-16     3.0          3         1\n",
      "3              4      2012-08-26     1.0          2         3\n",
      "4              5      2013-06-06     2.0          4         1\n"
     ]
    }
   ],
   "source": [
    "import pandas as pd\n",
    "fd=pd.read_csv('transactions.csv')\n",
    "print(fd.head(5))"
   ]
  },
  {
   "cell_type": "code",
   "execution_count": 75,
   "metadata": {},
   "outputs": [
    {
     "name": "stdout",
     "output_type": "stream",
     "text": [
      "   TransactionID TransactionDate  UserID  ProductID  Quantity\n",
      "5              6      2013-12-23     2.0          5         6\n",
      "6              7      2013-12-30     3.0          4         1\n",
      "7              8      2014-04-24     NaN          2         3\n",
      "8              9      2015-04-24     7.0          4         3\n",
      "9             10      2016-05-08     3.0          4         4\n"
     ]
    }
   ],
   "source": [
    "import pandas as pd\n",
    "fd=pd.read_csv('transactions.csv')\n",
    "print(fd.tail(5))"
   ]
  },
  {
   "cell_type": "code",
   "execution_count": 76,
   "metadata": {},
   "outputs": [
    {
     "name": "stdout",
     "output_type": "stream",
     "text": [
      "<class 'pandas.core.frame.DataFrame'>\n",
      "RangeIndex: 10 entries, 0 to 9\n",
      "Data columns (total 5 columns):\n",
      " #   Column           Non-Null Count  Dtype  \n",
      "---  ------           --------------  -----  \n",
      " 0   TransactionID    10 non-null     int64  \n",
      " 1   TransactionDate  10 non-null     object \n",
      " 2   UserID           9 non-null      float64\n",
      " 3   ProductID        10 non-null     int64  \n",
      " 4   Quantity         10 non-null     int64  \n",
      "dtypes: float64(1), int64(3), object(1)\n",
      "memory usage: 528.0+ bytes\n",
      "None\n"
     ]
    }
   ],
   "source": [
    "import pandas as pd\n",
    "fd=pd.read_csv('transactions.csv')\n",
    "print(fd.info())"
   ]
  },
  {
   "cell_type": "code",
   "execution_count": 77,
   "metadata": {},
   "outputs": [
    {
     "name": "stdout",
     "output_type": "stream",
     "text": [
      "       TransactionID    UserID  ProductID   Quantity\n",
      "count       10.00000  9.000000  10.000000  10.000000\n",
      "mean         5.50000  3.444444   3.400000   2.400000\n",
      "std          3.02765  2.127858   1.074968   1.712698\n",
      "min          1.00000  1.000000   2.000000   1.000000\n",
      "25%          3.25000  2.000000   2.250000   1.000000\n",
      "50%          5.50000  3.000000   4.000000   2.000000\n",
      "75%          7.75000  3.000000   4.000000   3.000000\n",
      "max         10.00000  7.000000   5.000000   6.000000\n"
     ]
    }
   ],
   "source": [
    "import pandas as pd\n",
    "fd=pd.read_csv('transactions.csv')\n",
    "print(fd.describe())"
   ]
  },
  {
   "cell_type": "code",
   "execution_count": 78,
   "metadata": {},
   "outputs": [
    {
     "name": "stdout",
     "output_type": "stream",
     "text": [
      "0    7.0\n",
      "1    3.0\n",
      "2    3.0\n",
      "3    1.0\n",
      "4    2.0\n",
      "5    2.0\n",
      "6    3.0\n",
      "7    NaN\n",
      "8    7.0\n",
      "9    3.0\n",
      "Name: UserID, dtype: float64\n"
     ]
    }
   ],
   "source": [
    "import pandas as pd\n",
    "fd=pd.read_csv('transactions.csv')\n",
    "print(fd['UserID'])"
   ]
  },
  {
   "cell_type": "code",
   "execution_count": 79,
   "metadata": {},
   "outputs": [
    {
     "name": "stdout",
     "output_type": "stream",
     "text": [
      "0    2\n",
      "1    4\n",
      "2    3\n",
      "3    2\n",
      "4    4\n",
      "5    5\n",
      "6    4\n",
      "7    2\n",
      "8    4\n",
      "9    4\n",
      "Name: ProductID, dtype: int64\n"
     ]
    }
   ],
   "source": [
    "import pandas as pd\n",
    "fd=pd.read_csv('transactions.csv')\n",
    "print(fd['ProductID'])"
   ]
  },
  {
   "cell_type": "code",
   "execution_count": 80,
   "metadata": {},
   "outputs": [
    {
     "name": "stdout",
     "output_type": "stream",
     "text": [
      "0    False\n",
      "1    False\n",
      "2    False\n",
      "3    False\n",
      "4    False\n",
      "5     True\n",
      "6    False\n",
      "7    False\n",
      "8    False\n",
      "9    False\n",
      "Name: ProductID, dtype: bool\n"
     ]
    }
   ],
   "source": [
    "import pandas as pd\n",
    "fd=pd.read_csv('transactions.csv')\n",
    "print(fd['ProductID']>4)"
   ]
  },
  {
   "cell_type": "code",
   "execution_count": 81,
   "metadata": {},
   "outputs": [
    {
     "name": "stdout",
     "output_type": "stream",
     "text": [
      "   TransactionID TransactionDate  UserID  ProductID  Quantity\n",
      "1              2      2011-05-26     3.0          4         1\n",
      "4              5      2013-06-06     2.0          4         1\n",
      "5              6      2013-12-23     2.0          5         6\n",
      "6              7      2013-12-30     3.0          4         1\n",
      "8              9      2015-04-24     7.0          4         3\n",
      "9             10      2016-05-08     3.0          4         4\n"
     ]
    }
   ],
   "source": [
    "import pandas as pd\n",
    "fd=pd.read_csv('transactions.csv')\n",
    "print(fd[fd['ProductID']>3])"
   ]
  },
  {
   "cell_type": "code",
   "execution_count": 82,
   "metadata": {},
   "outputs": [
    {
     "name": "stdout",
     "output_type": "stream",
     "text": [
      "   ProductID  UserID\n",
      "0          2     7.0\n",
      "1          4     3.0\n",
      "2          3     3.0\n",
      "3          2     1.0\n",
      "4          4     2.0\n",
      "5          5     2.0\n",
      "6          4     3.0\n",
      "7          2     NaN\n",
      "8          4     7.0\n",
      "9          4     3.0\n"
     ]
    }
   ],
   "source": [
    "import pandas as pd\n",
    "fd=pd.read_csv('transactions.csv')\n",
    "print(fd[['ProductID','UserID']])"
   ]
  },
  {
   "cell_type": "code",
   "execution_count": 83,
   "metadata": {},
   "outputs": [
    {
     "name": "stdout",
     "output_type": "stream",
     "text": [
      "TransactionID               4\n",
      "TransactionDate    2012-08-26\n",
      "UserID                    1.0\n",
      "ProductID                   2\n",
      "Quantity                    3\n",
      "Name: 3, dtype: object\n"
     ]
    }
   ],
   "source": [
    "import pandas as pd\n",
    "fd=pd.read_csv('transactions.csv')\n",
    "print(fd.iloc[3])"
   ]
  },
  {
   "cell_type": "code",
   "execution_count": 84,
   "metadata": {},
   "outputs": [
    {
     "name": "stdout",
     "output_type": "stream",
     "text": [
      "   TransactionID TransactionDate  UserID  prductid  Quantity\n",
      "0              1      2010-08-21     7.0         2         1\n",
      "1              2      2011-05-26     3.0         4         1\n",
      "2              3      2011-06-16     3.0         3         1\n",
      "3              4      2012-08-26     1.0         2         3\n",
      "4              5      2013-06-06     2.0         4         1\n"
     ]
    }
   ],
   "source": [
    "import pandas as pd \n",
    "fd=pd.read_csv('transactions.csv')\n",
    "fd.rename(columns={'ProductID':'prductid'},inplace=True)\n",
    "print(fd.head())"
   ]
  },
  {
   "cell_type": "code",
   "execution_count": 85,
   "metadata": {
    "scrolled": false
   },
   "outputs": [
    {
     "name": "stdout",
     "output_type": "stream",
     "text": [
      "TransactionID      0\n",
      "TransactionDate    0\n",
      "UserID             1\n",
      "ProductID          0\n",
      "Quantity           0\n",
      "dtype: int64\n"
     ]
    }
   ],
   "source": [
    "import pandas as pd\n",
    "df=pd.read_csv('transactions.csv')\n",
    "print(df.isnull().sum())"
   ]
  },
  {
   "cell_type": "code",
   "execution_count": 86,
   "metadata": {},
   "outputs": [
    {
     "name": "stdout",
     "output_type": "stream",
     "text": [
      "3.4444444444444446\n"
     ]
    }
   ],
   "source": [
    "import pandas as pd\n",
    "df=pd.read_csv('transactions.csv')\n",
    "print(df['UserID'].mean())"
   ]
  },
  {
   "cell_type": "code",
   "execution_count": 87,
   "metadata": {},
   "outputs": [
    {
     "name": "stdout",
     "output_type": "stream",
     "text": [
      "None\n"
     ]
    }
   ],
   "source": [
    "import pandas as pd\n",
    "df=pd.read_csv('transactions.csv')\n",
    "print(df['UserID'].fillna(df['UserID'].mean(),inplace=True))"
   ]
  },
  {
   "cell_type": "code",
   "execution_count": 88,
   "metadata": {
    "scrolled": false
   },
   "outputs": [
    {
     "name": "stdout",
     "output_type": "stream",
     "text": [
      "   TransactionID TransactionDate  UserID  ProductID  Quantity\n",
      "3              4      2012-08-26     1.0          2         3\n",
      "4              5      2013-06-06     2.0          4         1\n",
      "5              6      2013-12-23     2.0          5         6\n",
      "1              2      2011-05-26     3.0          4         1\n",
      "2              3      2011-06-16     3.0          3         1\n",
      "6              7      2013-12-30     3.0          4         1\n",
      "9             10      2016-05-08     3.0          4         4\n",
      "0              1      2010-08-21     7.0          2         1\n",
      "8              9      2015-04-24     7.0          4         3\n",
      "7              8      2014-04-24     NaN          2         3\n"
     ]
    }
   ],
   "source": [
    "import pandas as pd\n",
    "df=pd.read_csv('transactions.csv')\n",
    "print(df.sort_values(by=['UserID'],ascending=[True]))"
   ]
  },
  {
   "cell_type": "code",
   "execution_count": 89,
   "metadata": {},
   "outputs": [
    {
     "name": "stdout",
     "output_type": "stream",
     "text": [
      "   TransactionID TransactionDate  UserID  ProductID  Quantity\n",
      "1              2      2011-05-26     3.0          4         1\n",
      "2              3      2011-06-16     3.0          3         1\n",
      "5              6      2013-12-23     2.0          5         6\n"
     ]
    }
   ],
   "source": [
    "import pandas as pd\n",
    "df=pd.read_csv('transactions.csv')\n",
    "print(df.iloc[[1,2,5]])"
   ]
  },
  {
   "cell_type": "code",
   "execution_count": 90,
   "metadata": {
    "scrolled": false
   },
   "outputs": [
    {
     "name": "stdout",
     "output_type": "stream",
     "text": [
      "   TransactionID TransactionDate  UserID  ProductID  Quantity   foo\n",
      "0              1      2010-08-21     7.0          2         1   8.0\n",
      "1              2      2011-05-26     3.0          4         1   4.0\n",
      "2              3      2011-06-16     3.0          3         1   4.0\n",
      "3              4      2012-08-26     1.0          2         3   4.0\n",
      "4              5      2013-06-06     2.0          4         1   3.0\n",
      "5              6      2013-12-23     2.0          5         6   8.0\n",
      "6              7      2013-12-30     3.0          4         1   4.0\n",
      "7              8      2014-04-24     NaN          2         3   NaN\n",
      "8              9      2015-04-24     7.0          4         3  10.0\n",
      "9             10      2016-05-08     3.0          4         4   7.0\n"
     ]
    }
   ],
   "source": [
    "import pandas as pd\n",
    "df=pd.read_csv('transactions.csv')\n",
    "df['foo']=df['UserID']+df['Quantity']\n",
    "print(df)"
   ]
  },
  {
   "cell_type": "code",
   "execution_count": 91,
   "metadata": {},
   "outputs": [],
   "source": [
    "import pandas as pd\n",
    "df=pd.read_csv('transactions.csv')\n",
    "df.loc[df['UserID']==2.0,'Quantity']=4\n"
   ]
  },
  {
   "cell_type": "code",
   "execution_count": 92,
   "metadata": {},
   "outputs": [
    {
     "name": "stdout",
     "output_type": "stream",
     "text": [
      "0    10\n",
      "1    20\n",
      "2    30\n",
      "3    40\n",
      "dtype: int64\n"
     ]
    }
   ],
   "source": [
    "import pandas as pd\n",
    "data = [10, 20, 30, 40]\n",
    "v = pd.Series(data)\n",
    "print(v)\n"
   ]
  },
  {
   "cell_type": "code",
   "execution_count": 93,
   "metadata": {},
   "outputs": [
    {
     "name": "stdout",
     "output_type": "stream",
     "text": [
      "5\n"
     ]
    }
   ],
   "source": [
    "# 2. Print Numbers of Attributes\n",
    "\n",
    "\n",
    "import pandas as pd\n",
    "df=pd.read_csv('transactions.csv')\n",
    "\n",
    "print(df.shape[1])"
   ]
  },
  {
   "cell_type": "code",
   "execution_count": 94,
   "metadata": {},
   "outputs": [
    {
     "name": "stdout",
     "output_type": "stream",
     "text": [
      "10\n"
     ]
    }
   ],
   "source": [
    "# 3.Print Numbers of Records\n",
    "\n",
    "import pandas as pd\n",
    "df=pd.read_csv('transactions.csv')\n",
    "\n",
    "print(df.shape[0])"
   ]
  },
  {
   "cell_type": "code",
   "execution_count": 95,
   "metadata": {},
   "outputs": [],
   "source": [
    "# 4. Get the row names\n",
    "\n",
    "\n"
   ]
  },
  {
   "cell_type": "code",
   "execution_count": 96,
   "metadata": {},
   "outputs": [
    {
     "name": "stdout",
     "output_type": "stream",
     "text": [
      "['TransactionID', 'TransactionDate', 'UserID', 'ProductID', 'Quantity']\n"
     ]
    }
   ],
   "source": [
    "# 5. Get the column names\n",
    "import pandas as pd\n",
    "df=pd.read_csv('transactions.csv')\n",
    "print(list(df))"
   ]
  },
  {
   "cell_type": "code",
   "execution_count": 97,
   "metadata": {},
   "outputs": [
    {
     "name": "stdout",
     "output_type": "stream",
     "text": [
      "   TransactionID TransactionDate  UserID  ProductID  Quantity\n",
      "0              1      2010-08-21     7.0          2         1\n",
      "1              2      2011-05-26     3.0          4         1\n",
      "2              3      2011-06-16     3.0          3         1\n",
      "3              4      2012-08-26     1.0          2         3\n",
      "4              5      2013-06-06     2.0          4         1\n",
      "5              6      2013-12-23     2.0          5         6\n",
      "6              7      2013-12-30     3.0          4         1\n",
      "7              8      2014-04-24     NaN          2         3\n",
      "8              9      2015-04-24     7.0          4         3\n",
      "9             10      2016-05-08     3.0          4         4\n"
     ]
    }
   ],
   "source": [
    "# 6. View top 10 Records\n",
    "import pandas as pd\n",
    "df=pd.read_csv('transactions.csv')\n",
    "print(df.head(10))"
   ]
  },
  {
   "cell_type": "code",
   "execution_count": 98,
   "metadata": {},
   "outputs": [
    {
     "name": "stdout",
     "output_type": "stream",
     "text": [
      "   TransactionID TransactionDate  UserID  ProductID  Quant\n",
      "0              1      2010-08-21     7.0          2      1\n",
      "1              2      2011-05-26     3.0          4      1\n",
      "2              3      2011-06-16     3.0          3      1\n",
      "3              4      2012-08-26     1.0          2      3\n",
      "4              5      2013-06-06     2.0          4      1\n",
      "5              6      2013-12-23     2.0          5      6\n",
      "6              7      2013-12-30     3.0          4      1\n",
      "7              8      2014-04-24     NaN          2      3\n",
      "8              9      2015-04-24     7.0          4      3\n",
      "9             10      2016-05-08     3.0          4      4\n"
     ]
    }
   ],
   "source": [
    "# 7.Change the name of column “ Quantity” to “Quant”\n",
    "\n",
    "\n",
    "# 6. View top 10 Records\n",
    "import pandas as pd\n",
    "df=pd.read_csv('transactions.csv')\n",
    "df.rename(columns={'Quantity':'Quant'},inplace=True)\n",
    "print(df)"
   ]
  },
  {
   "cell_type": "code",
   "execution_count": 99,
   "metadata": {},
   "outputs": [
    {
     "name": "stdout",
     "output_type": "stream",
     "text": [
      "   TransactionID TransactionDate  UID  PID  Quantity\n",
      "0              1      2010-08-21  7.0    2         1\n",
      "1              2      2011-05-26  3.0    4         1\n",
      "2              3      2011-06-16  3.0    3         1\n",
      "3              4      2012-08-26  1.0    2         3\n",
      "4              5      2013-06-06  2.0    4         1\n",
      "5              6      2013-12-23  2.0    5         6\n",
      "6              7      2013-12-30  3.0    4         1\n",
      "7              8      2014-04-24  NaN    2         3\n",
      "8              9      2015-04-24  7.0    4         3\n",
      "9             10      2016-05-08  3.0    4         4\n"
     ]
    }
   ],
   "source": [
    "# 8.Change the name of columns ProductID and UserID\n",
    "import pandas as pd\n",
    "df=pd.read_csv('transactions.csv')\n",
    "df.rename(columns={'ProductID':'PID',\n",
    "                  'UserID':'UID'},inplace=True)\n",
    "print(df)\n"
   ]
  },
  {
   "cell_type": "code",
   "execution_count": 100,
   "metadata": {},
   "outputs": [
    {
     "name": "stdout",
     "output_type": "stream",
     "text": [
      "   TransactionID TransactionDate  UserID  ProductID  Quantity\n",
      "0              1      2010-08-21     7.0          2         1\n",
      "1              2      2011-05-26     3.0          4         1\n",
      "2              3      2011-06-16     3.0          3         1\n",
      "3              4      2012-08-26     1.0          2         3\n",
      "4              5      2013-06-06     2.0          4         1\n",
      "5              6      2013-12-23     2.0          5         6\n",
      "6              7      2013-12-30     3.0          4         1\n",
      "7              8      2014-04-24     NaN          2         3\n",
      "8              9      2015-04-24     7.0          4         3\n",
      "9             10      2016-05-08     3.0          4         4\n"
     ]
    }
   ],
   "source": [
    "# 9. Order the rows of transactions by TransactionId\n",
    "import pandas as pd\n",
    "df=pd.read_csv('transactions.csv')\n",
    "df.sort_values(by=['TransactionID'], ascending=True)\n",
    "print(df)"
   ]
  },
  {
   "cell_type": "code",
   "execution_count": 101,
   "metadata": {},
   "outputs": [
    {
     "data": {
      "text/html": [
       "<div>\n",
       "<style scoped>\n",
       "    .dataframe tbody tr th:only-of-type {\n",
       "        vertical-align: middle;\n",
       "    }\n",
       "\n",
       "    .dataframe tbody tr th {\n",
       "        vertical-align: top;\n",
       "    }\n",
       "\n",
       "    .dataframe thead th {\n",
       "        text-align: right;\n",
       "    }\n",
       "</style>\n",
       "<table border=\"1\" class=\"dataframe\">\n",
       "  <thead>\n",
       "    <tr style=\"text-align: right;\">\n",
       "      <th></th>\n",
       "      <th>TransactionID</th>\n",
       "      <th>TransactionDate</th>\n",
       "      <th>UserID</th>\n",
       "      <th>ProductID</th>\n",
       "      <th>Quantity</th>\n",
       "    </tr>\n",
       "  </thead>\n",
       "  <tbody>\n",
       "    <tr>\n",
       "      <th>9</th>\n",
       "      <td>10</td>\n",
       "      <td>2016-05-08</td>\n",
       "      <td>3.0</td>\n",
       "      <td>4</td>\n",
       "      <td>4</td>\n",
       "    </tr>\n",
       "    <tr>\n",
       "      <th>8</th>\n",
       "      <td>9</td>\n",
       "      <td>2015-04-24</td>\n",
       "      <td>7.0</td>\n",
       "      <td>4</td>\n",
       "      <td>3</td>\n",
       "    </tr>\n",
       "    <tr>\n",
       "      <th>7</th>\n",
       "      <td>8</td>\n",
       "      <td>2014-04-24</td>\n",
       "      <td>NaN</td>\n",
       "      <td>2</td>\n",
       "      <td>3</td>\n",
       "    </tr>\n",
       "    <tr>\n",
       "      <th>6</th>\n",
       "      <td>7</td>\n",
       "      <td>2013-12-30</td>\n",
       "      <td>3.0</td>\n",
       "      <td>4</td>\n",
       "      <td>1</td>\n",
       "    </tr>\n",
       "    <tr>\n",
       "      <th>5</th>\n",
       "      <td>6</td>\n",
       "      <td>2013-12-23</td>\n",
       "      <td>2.0</td>\n",
       "      <td>5</td>\n",
       "      <td>6</td>\n",
       "    </tr>\n",
       "    <tr>\n",
       "      <th>4</th>\n",
       "      <td>5</td>\n",
       "      <td>2013-06-06</td>\n",
       "      <td>2.0</td>\n",
       "      <td>4</td>\n",
       "      <td>1</td>\n",
       "    </tr>\n",
       "    <tr>\n",
       "      <th>3</th>\n",
       "      <td>4</td>\n",
       "      <td>2012-08-26</td>\n",
       "      <td>1.0</td>\n",
       "      <td>2</td>\n",
       "      <td>3</td>\n",
       "    </tr>\n",
       "    <tr>\n",
       "      <th>2</th>\n",
       "      <td>3</td>\n",
       "      <td>2011-06-16</td>\n",
       "      <td>3.0</td>\n",
       "      <td>3</td>\n",
       "      <td>1</td>\n",
       "    </tr>\n",
       "    <tr>\n",
       "      <th>1</th>\n",
       "      <td>2</td>\n",
       "      <td>2011-05-26</td>\n",
       "      <td>3.0</td>\n",
       "      <td>4</td>\n",
       "      <td>1</td>\n",
       "    </tr>\n",
       "    <tr>\n",
       "      <th>0</th>\n",
       "      <td>1</td>\n",
       "      <td>2010-08-21</td>\n",
       "      <td>7.0</td>\n",
       "      <td>2</td>\n",
       "      <td>1</td>\n",
       "    </tr>\n",
       "  </tbody>\n",
       "</table>\n",
       "</div>"
      ],
      "text/plain": [
       "   TransactionID TransactionDate  UserID  ProductID  Quantity\n",
       "9             10      2016-05-08     3.0          4         4\n",
       "8              9      2015-04-24     7.0          4         3\n",
       "7              8      2014-04-24     NaN          2         3\n",
       "6              7      2013-12-30     3.0          4         1\n",
       "5              6      2013-12-23     2.0          5         6\n",
       "4              5      2013-06-06     2.0          4         1\n",
       "3              4      2012-08-26     1.0          2         3\n",
       "2              3      2011-06-16     3.0          3         1\n",
       "1              2      2011-05-26     3.0          4         1\n",
       "0              1      2010-08-21     7.0          2         1"
      ]
     },
     "execution_count": 101,
     "metadata": {},
     "output_type": "execute_result"
    }
   ],
   "source": [
    "#10. Order the rows of transactions by Quantity\n",
    "# ascending, TransactionDate descending\n",
    "import pandas as pd \n",
    "df=pd.read_csv('transactions.csv')\n",
    "df.sort_values(by=[\"TransactionDate\",\"Quantity\"],ascending=[False,True])\n",
    "\n"
   ]
  },
  {
   "cell_type": "code",
   "execution_count": 102,
   "metadata": {},
   "outputs": [
    {
     "name": "stdout",
     "output_type": "stream",
     "text": [
      "   ProductID  Quantity TransactionDate  TransactionID  UserID\n",
      "0          2         1      2010-08-21              1     7.0\n",
      "1          4         1      2011-05-26              2     3.0\n",
      "2          3         1      2011-06-16              3     3.0\n",
      "3          2         3      2012-08-26              4     1.0\n",
      "4          4         1      2013-06-06              5     2.0\n",
      "5          5         6      2013-12-23              6     2.0\n",
      "6          4         1      2013-12-30              7     3.0\n",
      "7          2         3      2014-04-24              8     NaN\n",
      "8          4         3      2015-04-24              9     7.0\n",
      "9          4         4      2016-05-08             10     3.0\n"
     ]
    }
   ],
   "source": [
    "# 11. Set the column order of Transactions as ProductID,\n",
    "# Quantity, TransactionDate, TransactionID, UserID\n",
    "\n",
    "import pandas as pd \n",
    "df=pd.read_csv('transactions.csv')\n",
    "df=df[[\"ProductID\",\"Quantity\",\"TransactionDate\",\"TransactionID\",\"UserID\"]]\n",
    "print(df)\n"
   ]
  },
  {
   "cell_type": "code",
   "execution_count": 103,
   "metadata": {},
   "outputs": [
    {
     "data": {
      "text/html": [
       "<div>\n",
       "<style scoped>\n",
       "    .dataframe tbody tr th:only-of-type {\n",
       "        vertical-align: middle;\n",
       "    }\n",
       "\n",
       "    .dataframe tbody tr th {\n",
       "        vertical-align: top;\n",
       "    }\n",
       "\n",
       "    .dataframe thead th {\n",
       "        text-align: right;\n",
       "    }\n",
       "</style>\n",
       "<table border=\"1\" class=\"dataframe\">\n",
       "  <thead>\n",
       "    <tr style=\"text-align: right;\">\n",
       "      <th></th>\n",
       "      <th>UserID</th>\n",
       "      <th>ProductID</th>\n",
       "      <th>Quantity</th>\n",
       "      <th>TransactionDate</th>\n",
       "      <th>TransactionID</th>\n",
       "    </tr>\n",
       "  </thead>\n",
       "  <tbody>\n",
       "    <tr>\n",
       "      <th>0</th>\n",
       "      <td>7.0</td>\n",
       "      <td>2</td>\n",
       "      <td>1</td>\n",
       "      <td>2010-08-21</td>\n",
       "      <td>1</td>\n",
       "    </tr>\n",
       "    <tr>\n",
       "      <th>1</th>\n",
       "      <td>3.0</td>\n",
       "      <td>4</td>\n",
       "      <td>1</td>\n",
       "      <td>2011-05-26</td>\n",
       "      <td>2</td>\n",
       "    </tr>\n",
       "    <tr>\n",
       "      <th>2</th>\n",
       "      <td>3.0</td>\n",
       "      <td>3</td>\n",
       "      <td>1</td>\n",
       "      <td>2011-06-16</td>\n",
       "      <td>3</td>\n",
       "    </tr>\n",
       "    <tr>\n",
       "      <th>3</th>\n",
       "      <td>1.0</td>\n",
       "      <td>2</td>\n",
       "      <td>3</td>\n",
       "      <td>2012-08-26</td>\n",
       "      <td>4</td>\n",
       "    </tr>\n",
       "    <tr>\n",
       "      <th>4</th>\n",
       "      <td>2.0</td>\n",
       "      <td>4</td>\n",
       "      <td>1</td>\n",
       "      <td>2013-06-06</td>\n",
       "      <td>5</td>\n",
       "    </tr>\n",
       "    <tr>\n",
       "      <th>5</th>\n",
       "      <td>2.0</td>\n",
       "      <td>5</td>\n",
       "      <td>6</td>\n",
       "      <td>2013-12-23</td>\n",
       "      <td>6</td>\n",
       "    </tr>\n",
       "    <tr>\n",
       "      <th>6</th>\n",
       "      <td>3.0</td>\n",
       "      <td>4</td>\n",
       "      <td>1</td>\n",
       "      <td>2013-12-30</td>\n",
       "      <td>7</td>\n",
       "    </tr>\n",
       "    <tr>\n",
       "      <th>7</th>\n",
       "      <td>NaN</td>\n",
       "      <td>2</td>\n",
       "      <td>3</td>\n",
       "      <td>2014-04-24</td>\n",
       "      <td>8</td>\n",
       "    </tr>\n",
       "    <tr>\n",
       "      <th>8</th>\n",
       "      <td>7.0</td>\n",
       "      <td>4</td>\n",
       "      <td>3</td>\n",
       "      <td>2015-04-24</td>\n",
       "      <td>9</td>\n",
       "    </tr>\n",
       "    <tr>\n",
       "      <th>9</th>\n",
       "      <td>3.0</td>\n",
       "      <td>4</td>\n",
       "      <td>4</td>\n",
       "      <td>2016-05-08</td>\n",
       "      <td>10</td>\n",
       "    </tr>\n",
       "  </tbody>\n",
       "</table>\n",
       "</div>"
      ],
      "text/plain": [
       "   UserID  ProductID  Quantity TransactionDate  TransactionID\n",
       "0     7.0          2         1      2010-08-21              1\n",
       "1     3.0          4         1      2011-05-26              2\n",
       "2     3.0          3         1      2011-06-16              3\n",
       "3     1.0          2         3      2012-08-26              4\n",
       "4     2.0          4         1      2013-06-06              5\n",
       "5     2.0          5         6      2013-12-23              6\n",
       "6     3.0          4         1      2013-12-30              7\n",
       "7     NaN          2         3      2014-04-24              8\n",
       "8     7.0          4         3      2015-04-24              9\n",
       "9     3.0          4         4      2016-05-08             10"
      ]
     },
     "execution_count": 103,
     "metadata": {},
     "output_type": "execute_result"
    }
   ],
   "source": [
    "# df[[\"UserID\", \"ProductID\", \"Quantity\", \"TransactionDate\", \"TransactionID\"]]\n",
    "# 12. Make UserID the first column of transactions\n",
    "\n",
    "df = df[[\"UserID\", \"ProductID\", \"Quantity\", \"TransactionDate\", \"TransactionID\"]]\n",
    "df\n"
   ]
  },
  {
   "cell_type": "code",
   "execution_count": 104,
   "metadata": {},
   "outputs": [
    {
     "name": "stdout",
     "output_type": "stream",
     "text": [
      "0    1\n",
      "1    1\n",
      "2    1\n",
      "3    3\n",
      "4    1\n",
      "5    6\n",
      "6    1\n",
      "7    3\n",
      "8    3\n",
      "9    4\n",
      "Name: Quantity, dtype: int64\n"
     ]
    }
   ],
   "source": [
    "# 13 Extracting arrays from a Data Frame. Get the 2nd\n",
    "# column\n",
    "\n",
    "import pandas as pd \n",
    "# df=pd.read_csv('transactions.csv')\n",
    "sec=df.iloc[:,2]\n",
    "print(sec)"
   ]
  },
  {
   "cell_type": "code",
   "execution_count": 105,
   "metadata": {},
   "outputs": [
    {
     "name": "stdout",
     "output_type": "stream",
     "text": [
      "[2 4 3 2 4 5 4 2 4 4]\n"
     ]
    }
   ],
   "source": [
    "# 15. Get the ProductID Array\n",
    "\n",
    "import pandas as pd \n",
    "# df=pd.read_csv('transactions.csv')\n",
    "val=df[\"ProductID\"].values;\n",
    "print(val)"
   ]
  },
  {
   "cell_type": "code",
   "execution_count": 106,
   "metadata": {},
   "outputs": [
    {
     "name": "stdout",
     "output_type": "stream",
     "text": [
      "   UserID  ProductID  Quantity TransactionDate  TransactionID\n",
      "1     3.0          4         1      2011-05-26              2\n",
      "3     1.0          2         3      2012-08-26              4\n",
      "6     3.0          4         1      2013-12-30              7\n"
     ]
    }
   ],
   "source": [
    "# 16.Row subsetting, subset rows 1,3 and 6\n",
    "\n",
    "# subset_df = df.iloc[[1, 3, 6],[2,3]]\n",
    "subset_df = df.iloc[[1, 3, 6]]\n",
    "print(subset_df)\n"
   ]
  },
  {
   "cell_type": "code",
   "execution_count": 107,
   "metadata": {},
   "outputs": [
    {
     "name": "stdout",
     "output_type": "stream",
     "text": [
      "   UserID  ProductID  Quantity TransactionDate  TransactionID\n",
      "0     7.0          2         1      2010-08-21              1\n",
      "2     3.0          3         1      2011-06-16              3\n",
      "4     2.0          4         1      2013-06-06              5\n",
      "5     2.0          5         6      2013-12-23              6\n",
      "7     NaN          2         3      2014-04-24              8\n",
      "8     7.0          4         3      2015-04-24              9\n",
      "9     3.0          4         4      2016-05-08             10\n"
     ]
    }
   ],
   "source": [
    "# 17. subset rows excluding 1,3 and 6\n",
    "\n",
    "subset=df.drop(index=[1,3,6])\n",
    "print(subset)"
   ]
  },
  {
   "cell_type": "code",
   "execution_count": 108,
   "metadata": {},
   "outputs": [
    {
     "name": "stdout",
     "output_type": "stream",
     "text": [
      "   UserID  ProductID  Quantity TransactionDate  TransactionID\n",
      "0     7.0          2         1      2010-08-21              1\n",
      "1     3.0          4         1      2011-05-26              2\n",
      "2     3.0          3         1      2011-06-16              3\n"
     ]
    }
   ],
   "source": [
    "# 18.Subset the first three rows\n",
    "subset2=df.head(3)\n",
    "print(subset2)"
   ]
  },
  {
   "cell_type": "code",
   "execution_count": 109,
   "metadata": {},
   "outputs": [
    {
     "name": "stdout",
     "output_type": "stream",
     "text": [
      "   UserID  ProductID  Quantity TransactionDate  TransactionID\n",
      "3     1.0          2         3      2012-08-26              4\n",
      "5     2.0          5         6      2013-12-23              6\n",
      "7     NaN          2         3      2014-04-24              8\n",
      "8     7.0          4         3      2015-04-24              9\n",
      "9     3.0          4         4      2016-05-08             10\n"
     ]
    }
   ],
   "source": [
    "# 22. Subset rows where Quantity>1\n",
    "sub4=df[df[\"Quantity\"]>1]\n",
    "print(sub4)"
   ]
  },
  {
   "cell_type": "code",
   "execution_count": 110,
   "metadata": {},
   "outputs": [
    {
     "name": "stdout",
     "output_type": "stream",
     "text": [
      "   UserID  ProductID  Quantity TransactionDate  TransactionID\n",
      "0     7.0          2         1      2010-08-21              1\n",
      "1     3.0          4         1      2011-05-26              2\n",
      "2     3.0          3         1      2011-06-16              3\n",
      "3     1.0          2         3      2012-08-26              4\n",
      "4     2.0          4         1      2013-06-06              5\n",
      "5     2.0          5         6      2013-12-23              6\n",
      "6     3.0          4         1      2013-12-30              7\n",
      "7     NaN          2         3      2014-04-24              8\n"
     ]
    }
   ],
   "source": [
    "# 20. Subset rows excluding the last 2 rows\n",
    "\n",
    "sub5= df.iloc[:-2]\n",
    "print(sub5)\n"
   ]
  },
  {
   "cell_type": "code",
   "execution_count": 111,
   "metadata": {},
   "outputs": [
    {
     "name": "stdout",
     "output_type": "stream",
     "text": [
      "   UserID  ProductID  Quantity TransactionDate  TransactionID\n",
      "3     1.0          2         3      2012-08-26              4\n",
      "4     2.0          4         1      2013-06-06              5\n",
      "5     2.0          5         6      2013-12-23              6\n",
      "6     3.0          4         1      2013-12-30              7\n",
      "7     NaN          2         3      2014-04-24              8\n",
      "8     7.0          4         3      2015-04-24              9\n",
      "9     3.0          4         4      2016-05-08             10\n"
     ]
    }
   ],
   "source": [
    "# 21. Subset rows excluding the first 3 rows\n",
    "subset_df3 = df.iloc[3:]\n",
    "print(subset_df3)"
   ]
  },
  {
   "cell_type": "code",
   "execution_count": null,
   "metadata": {},
   "outputs": [],
   "source": []
  },
  {
   "cell_type": "code",
   "execution_count": 112,
   "metadata": {
    "scrolled": true
   },
   "outputs": [
    {
     "name": "stdout",
     "output_type": "stream",
     "text": [
      "   UserID  ProductID  Quantity TransactionDate  TransactionID\n",
      "7     NaN          2         3      2014-04-24              8\n",
      "8     7.0          4         3      2015-04-24              9\n",
      "9     3.0          4         4      2016-05-08             10\n"
     ]
    }
   ],
   "source": [
    "# 19. Subset the last 2 rows\n",
    "sub3=df.tail(3)\n",
    "print(sub3)"
   ]
  },
  {
   "cell_type": "code",
   "execution_count": 113,
   "metadata": {},
   "outputs": [
    {
     "name": "stdout",
     "output_type": "stream",
     "text": [
      "   UserID  ProductID  Quantity TransactionDate  TransactionID\n",
      "4     2.0          4         1      2013-06-06              5\n",
      "5     2.0          5         6      2013-12-23              6\n"
     ]
    }
   ],
   "source": [
    "subr=df[df[\"UserID\"]==2]\n",
    "print(subr)"
   ]
  },
  {
   "cell_type": "code",
   "execution_count": 114,
   "metadata": {},
   "outputs": [
    {
     "name": "stdout",
     "output_type": "stream",
     "text": [
      "   UserID  ProductID  Quantity TransactionDate  TransactionID\n",
      "5     2.0          5         6      2013-12-23              6\n"
     ]
    }
   ],
   "source": [
    "# 24. Subset rows where Quantity>1 and UserID=2\n",
    "\n",
    "subf=df[(df[\"UserID\"]==2) & (df[\"Quantity\"]>1)]\n",
    "print(subf)"
   ]
  },
  {
   "cell_type": "code",
   "execution_count": 133,
   "metadata": {},
   "outputs": [
    {
     "name": "stdout",
     "output_type": "stream",
     "text": [
      "   UserID  ProductID  Quantity TransactionDate  TransactionID   Foo  UseCase\n",
      "0     7.0          2         1      2010-08-21              1   9.0      0.0\n",
      "5     2.0          5         6      2013-12-23              6   7.0    -10.0\n",
      "8     7.0          4         3      2015-04-24              9  11.0    -14.0\n",
      "9     3.0          4         4      2016-05-08             10   7.0     -9.0\n"
     ]
    }
   ],
   "source": [
    "# 25. Subset rows where Quantity + UserID is >3\n",
    "subf=df[df[\"UserID\"]+df[\"Quantity\"]>6]\n",
    "print(subf)"
   ]
  },
  {
   "cell_type": "code",
   "execution_count": 116,
   "metadata": {},
   "outputs": [
    {
     "name": "stdout",
     "output_type": "stream",
     "text": [
      "   UserID  ProductID  Quantity TransactionDate  TransactionID\n",
      "0     7.0          2         1      2010-08-21              1\n",
      "1     3.0          4         1      2011-05-26              2\n",
      "3     1.0          2         3      2012-08-26              4\n",
      "5     2.0          5         6      2013-12-23              6\n",
      "6     3.0          4         1      2013-12-30              7\n",
      "8     7.0          4         3      2015-04-24              9\n"
     ]
    }
   ],
   "source": [
    "# 26. Subset rows where an external array, foo, is True\n",
    "foo = [True,True, False, True, False, True,True,False,True,False]\n",
    "# print(df[foo])\n",
    "# length = len(df)\n",
    "# foo_true=[True]*length\n",
    "# print(df[df[i] for i in range(len(foo) if i==true)])\n",
    "# foo = [True, True, False, True, False, True, True, False, True, False]\n",
    "\n",
    "# Make sure the length of foo matches the number of rows in df\n",
    "print(df[foo])"
   ]
  },
  {
   "cell_type": "code",
   "execution_count": 140,
   "metadata": {},
   "outputs": [
    {
     "ename": "KeyError",
     "evalue": "\"None of [Index([3], dtype='int64')] are in the [columns]\"",
     "output_type": "error",
     "traceback": [
      "\u001b[0;31m---------------------------------------------------------------------------\u001b[0m",
      "\u001b[0;31mKeyError\u001b[0m                                  Traceback (most recent call last)",
      "\u001b[0;32m<ipython-input-140-cecfea3f301a>\u001b[0m in \u001b[0;36m<module>\u001b[0;34m\u001b[0m\n\u001b[1;32m      7\u001b[0m \u001b[0;34m\u001b[0m\u001b[0m\n\u001b[1;32m      8\u001b[0m \u001b[0;31m# print(subset_df)\u001b[0m\u001b[0;34m\u001b[0m\u001b[0;34m\u001b[0m\u001b[0;34m\u001b[0m\u001b[0m\n\u001b[0;32m----> 9\u001b[0;31m \u001b[0mdf\u001b[0m\u001b[0;34m[\u001b[0m\u001b[0;34m[\u001b[0m\u001b[0;36m3\u001b[0m\u001b[0;34m]\u001b[0m\u001b[0;34m]\u001b[0m\u001b[0;34m\u001b[0m\u001b[0;34m\u001b[0m\u001b[0m\n\u001b[0m",
      "\u001b[0;32m~/.local/lib/python3.8/site-packages/pandas/core/frame.py\u001b[0m in \u001b[0;36m__getitem__\u001b[0;34m(self, key)\u001b[0m\n\u001b[1;32m   3765\u001b[0m             \u001b[0;32mif\u001b[0m \u001b[0mis_iterator\u001b[0m\u001b[0;34m(\u001b[0m\u001b[0mkey\u001b[0m\u001b[0;34m)\u001b[0m\u001b[0;34m:\u001b[0m\u001b[0;34m\u001b[0m\u001b[0;34m\u001b[0m\u001b[0m\n\u001b[1;32m   3766\u001b[0m                 \u001b[0mkey\u001b[0m \u001b[0;34m=\u001b[0m \u001b[0mlist\u001b[0m\u001b[0;34m(\u001b[0m\u001b[0mkey\u001b[0m\u001b[0;34m)\u001b[0m\u001b[0;34m\u001b[0m\u001b[0;34m\u001b[0m\u001b[0m\n\u001b[0;32m-> 3767\u001b[0;31m             \u001b[0mindexer\u001b[0m \u001b[0;34m=\u001b[0m \u001b[0mself\u001b[0m\u001b[0;34m.\u001b[0m\u001b[0mcolumns\u001b[0m\u001b[0;34m.\u001b[0m\u001b[0m_get_indexer_strict\u001b[0m\u001b[0;34m(\u001b[0m\u001b[0mkey\u001b[0m\u001b[0;34m,\u001b[0m \u001b[0;34m\"columns\"\u001b[0m\u001b[0;34m)\u001b[0m\u001b[0;34m[\u001b[0m\u001b[0;36m1\u001b[0m\u001b[0;34m]\u001b[0m\u001b[0;34m\u001b[0m\u001b[0;34m\u001b[0m\u001b[0m\n\u001b[0m\u001b[1;32m   3768\u001b[0m \u001b[0;34m\u001b[0m\u001b[0m\n\u001b[1;32m   3769\u001b[0m         \u001b[0;31m# take() does not accept boolean indexers\u001b[0m\u001b[0;34m\u001b[0m\u001b[0;34m\u001b[0m\u001b[0;34m\u001b[0m\u001b[0m\n",
      "\u001b[0;32m~/.local/lib/python3.8/site-packages/pandas/core/indexes/base.py\u001b[0m in \u001b[0;36m_get_indexer_strict\u001b[0;34m(self, key, axis_name)\u001b[0m\n\u001b[1;32m   5875\u001b[0m             \u001b[0mkeyarr\u001b[0m\u001b[0;34m,\u001b[0m \u001b[0mindexer\u001b[0m\u001b[0;34m,\u001b[0m \u001b[0mnew_indexer\u001b[0m \u001b[0;34m=\u001b[0m \u001b[0mself\u001b[0m\u001b[0;34m.\u001b[0m\u001b[0m_reindex_non_unique\u001b[0m\u001b[0;34m(\u001b[0m\u001b[0mkeyarr\u001b[0m\u001b[0;34m)\u001b[0m\u001b[0;34m\u001b[0m\u001b[0;34m\u001b[0m\u001b[0m\n\u001b[1;32m   5876\u001b[0m \u001b[0;34m\u001b[0m\u001b[0m\n\u001b[0;32m-> 5877\u001b[0;31m         \u001b[0mself\u001b[0m\u001b[0;34m.\u001b[0m\u001b[0m_raise_if_missing\u001b[0m\u001b[0;34m(\u001b[0m\u001b[0mkeyarr\u001b[0m\u001b[0;34m,\u001b[0m \u001b[0mindexer\u001b[0m\u001b[0;34m,\u001b[0m \u001b[0maxis_name\u001b[0m\u001b[0;34m)\u001b[0m\u001b[0;34m\u001b[0m\u001b[0;34m\u001b[0m\u001b[0m\n\u001b[0m\u001b[1;32m   5878\u001b[0m \u001b[0;34m\u001b[0m\u001b[0m\n\u001b[1;32m   5879\u001b[0m         \u001b[0mkeyarr\u001b[0m \u001b[0;34m=\u001b[0m \u001b[0mself\u001b[0m\u001b[0;34m.\u001b[0m\u001b[0mtake\u001b[0m\u001b[0;34m(\u001b[0m\u001b[0mindexer\u001b[0m\u001b[0;34m)\u001b[0m\u001b[0;34m\u001b[0m\u001b[0;34m\u001b[0m\u001b[0m\n",
      "\u001b[0;32m~/.local/lib/python3.8/site-packages/pandas/core/indexes/base.py\u001b[0m in \u001b[0;36m_raise_if_missing\u001b[0;34m(self, key, indexer, axis_name)\u001b[0m\n\u001b[1;32m   5936\u001b[0m                 \u001b[0;32mif\u001b[0m \u001b[0muse_interval_msg\u001b[0m\u001b[0;34m:\u001b[0m\u001b[0;34m\u001b[0m\u001b[0;34m\u001b[0m\u001b[0m\n\u001b[1;32m   5937\u001b[0m                     \u001b[0mkey\u001b[0m \u001b[0;34m=\u001b[0m \u001b[0mlist\u001b[0m\u001b[0;34m(\u001b[0m\u001b[0mkey\u001b[0m\u001b[0;34m)\u001b[0m\u001b[0;34m\u001b[0m\u001b[0;34m\u001b[0m\u001b[0m\n\u001b[0;32m-> 5938\u001b[0;31m                 \u001b[0;32mraise\u001b[0m \u001b[0mKeyError\u001b[0m\u001b[0;34m(\u001b[0m\u001b[0;34mf\"None of [{key}] are in the [{axis_name}]\"\u001b[0m\u001b[0;34m)\u001b[0m\u001b[0;34m\u001b[0m\u001b[0;34m\u001b[0m\u001b[0m\n\u001b[0m\u001b[1;32m   5939\u001b[0m \u001b[0;34m\u001b[0m\u001b[0m\n\u001b[1;32m   5940\u001b[0m             \u001b[0mnot_found\u001b[0m \u001b[0;34m=\u001b[0m \u001b[0mlist\u001b[0m\u001b[0;34m(\u001b[0m\u001b[0mensure_index\u001b[0m\u001b[0;34m(\u001b[0m\u001b[0mkey\u001b[0m\u001b[0;34m)\u001b[0m\u001b[0;34m[\u001b[0m\u001b[0mmissing_mask\u001b[0m\u001b[0;34m.\u001b[0m\u001b[0mnonzero\u001b[0m\u001b[0;34m(\u001b[0m\u001b[0;34m)\u001b[0m\u001b[0;34m[\u001b[0m\u001b[0;36m0\u001b[0m\u001b[0;34m]\u001b[0m\u001b[0;34m]\u001b[0m\u001b[0;34m.\u001b[0m\u001b[0munique\u001b[0m\u001b[0;34m(\u001b[0m\u001b[0;34m)\u001b[0m\u001b[0;34m)\u001b[0m\u001b[0;34m\u001b[0m\u001b[0;34m\u001b[0m\u001b[0m\n",
      "\u001b[0;31mKeyError\u001b[0m: \"None of [Index([3], dtype='int64')] are in the [columns]\""
     ]
    }
   ],
   "source": [
    "# 27. Subset rows where an external array, bar, is positive\n",
    "bar = [1, -1, 3, 0, 2, 4, -1, -3, 2, 5]  # Only positive values (1, 3, 2) will be considered\n",
    "\n",
    "# Subset rows where `bar` is positive\n",
    "# subset_df=df[[True if x > 0 else False for x in bar]]\n",
    "# subset_df=df[[True if x > 0 else False for x in bar]]\n",
    "\n",
    "# print(subset_df)\n"
   ]
  },
  {
   "cell_type": "code",
   "execution_count": 118,
   "metadata": {},
   "outputs": [
    {
     "name": "stdout",
     "output_type": "stream",
     "text": [
      "   UserID  ProductID  Quantity TransactionDate  TransactionID\n",
      "0     7.0          2         1      2010-08-21              1\n",
      "1     3.0          4         1      2011-05-26              2\n",
      "3     1.0          2         3      2012-08-26              4\n",
      "5     2.0          5         6      2013-12-23              6\n",
      "6     3.0          4         1      2013-12-30              7\n",
      "8     7.0          4         3      2015-04-24              9\n"
     ]
    }
   ],
   "source": [
    "# 28. Subset rows where foo is TRUE or bar is negative\n",
    "# import pandas as pd\n",
    "# foo = [True,True, False, True, False, True,True,False,True,False]\n",
    "# # Assuming your DataFrame is named df\n",
    "# df_subset = df[(df[ foo] | df[[True if x < 0 else False for x in bar]])] \n",
    "# print(df_subset)\n",
    "\n",
    "print(df[(foo)|(df['ProductID']>4)])"
   ]
  },
  {
   "cell_type": "code",
   "execution_count": 119,
   "metadata": {},
   "outputs": [
    {
     "name": "stdout",
     "output_type": "stream",
     "text": [
      "   UserID  Quantity\n",
      "0     7.0         1\n",
      "1     3.0         1\n",
      "2     3.0         1\n",
      "3     1.0         3\n",
      "4     2.0         1\n",
      "5     2.0         6\n",
      "6     3.0         1\n",
      "7     NaN         3\n",
      "8     7.0         3\n",
      "9     3.0         4\n"
     ]
    }
   ],
   "source": [
    "# 30 Subset by columns 1 and 3\n",
    "df_subset = df.iloc[:, [0, 2]]\n",
    "print(df_subset)"
   ]
  },
  {
   "cell_type": "code",
   "execution_count": 120,
   "metadata": {},
   "outputs": [
    {
     "name": "stdout",
     "output_type": "stream",
     "text": [
      "   TransactionID TransactionDate\n",
      "0              1      2010-08-21\n",
      "1              2      2011-05-26\n",
      "2              3      2011-06-16\n",
      "3              4      2012-08-26\n",
      "4              5      2013-06-06\n",
      "5              6      2013-12-23\n",
      "6              7      2013-12-30\n",
      "7              8      2014-04-24\n",
      "8              9      2015-04-24\n",
      "9             10      2016-05-08\n"
     ]
    }
   ],
   "source": [
    "# 31. Subset by columns TransactionID and\n",
    "# TransactionDate\n",
    "df_subset = df[['TransactionID', 'TransactionDate']]\n",
    "print(df_subset)"
   ]
  },
  {
   "cell_type": "code",
   "execution_count": 121,
   "metadata": {},
   "outputs": [
    {
     "name": "stdout",
     "output_type": "stream",
     "text": [
      "Empty DataFrame\n",
      "Columns: [TransactionID, TransactionDate]\n",
      "Index: []\n"
     ]
    }
   ],
   "source": [
    "# 32. Subset by columns TransactionID and\n",
    "# TransactionDate with logical operator\n",
    "df_subset = df[(df['TransactionID'] > 1000) & (df['TransactionDate'] > '2025-01-01')][['TransactionID', 'TransactionDate']]\n",
    "print(df_subset)"
   ]
  },
  {
   "cell_type": "code",
   "execution_count": 122,
   "metadata": {},
   "outputs": [
    {
     "name": "stdout",
     "output_type": "stream",
     "text": [
      "   TransactionID TransactionDate\n",
      "0              1      2010-08-21\n",
      "1              2      2011-05-26\n",
      "2              3      2011-06-16\n",
      "3              4      2012-08-26\n",
      "4              5      2013-06-06\n",
      "5              6      2013-12-23\n",
      "6              7      2013-12-30\n",
      "7              8      2014-04-24\n",
      "8              9      2015-04-24\n",
      "9             10      2016-05-08\n"
     ]
    }
   ],
   "source": [
    "\n",
    "\n",
    "# 33.Subset columns by a variable list of column namescolumns_to_select = ['TransactionID', 'TransactionDate']\n",
    "\n",
    "columns_to_select = ['TransactionID', 'TransactionDate']\n",
    "df_subset = df[columns_to_select]\n",
    "print(df_subset)\n"
   ]
  },
  {
   "cell_type": "code",
   "execution_count": 142,
   "metadata": {},
   "outputs": [
    {
     "name": "stdout",
     "output_type": "stream",
     "text": [
      "   UserID  ProductID  Quantity   Foo  UseCase\n",
      "0     7.0          2         1   9.0      0.0\n",
      "1     3.0          4         1   7.0      0.0\n",
      "2     3.0          3         1   6.0      0.0\n",
      "3     1.0          2         3   3.0     -2.0\n",
      "4     2.0          4         1   6.0      0.0\n",
      "5     2.0          5         6   7.0    -10.0\n",
      "6     3.0          4         1   7.0      0.0\n",
      "7     NaN          2         3   NaN      NaN\n",
      "8     7.0          4         3  11.0    -14.0\n",
      "9     3.0          4         4   7.0     -9.0\n"
     ]
    }
   ],
   "source": [
    "# 34. Subset columns excluding a variable list of column\n",
    "# names\n",
    "columns_to_exclude = ['TransactionID', 'TransactionDate']\n",
    "df_subset = df.drop(columns=columns_to_exclude)\n",
    "print(df_subset)\n"
   ]
  },
  {
   "cell_type": "code",
   "execution_count": 124,
   "metadata": {},
   "outputs": [
    {
     "name": "stdout",
     "output_type": "stream",
     "text": [
      "   UserID  ProductID  Quantity TransactionDate  TransactionID   Foo\n",
      "0     7.0          2         1      2010-08-21              1   9.0\n",
      "1     3.0          4         1      2011-05-26              2   7.0\n",
      "2     3.0          3         1      2011-06-16              3   6.0\n",
      "3     1.0          2         3      2012-08-26              4   3.0\n",
      "4     2.0          4         1      2013-06-06              5   6.0\n",
      "5     2.0          5         6      2013-12-23              6   7.0\n",
      "6     3.0          4         1      2013-12-30              7   7.0\n",
      "7     NaN          2         3      2014-04-24              8   NaN\n",
      "8     7.0          4         3      2015-04-24              9  11.0\n",
      "9     3.0          4         4      2016-05-08             10   7.0\n"
     ]
    }
   ],
   "source": [
    "# 37. Insert a new column, Foo=UserID+ProductID\n",
    "\n",
    "# Create the 'Foo' column by adding UserID and ProductID\n",
    "df['Foo'] = df['UserID'] + df['ProductID']\n",
    "\n",
    "print(df)"
   ]
  },
  {
   "cell_type": "code",
   "execution_count": 125,
   "metadata": {},
   "outputs": [
    {
     "name": "stdout",
     "output_type": "stream",
     "text": [
      "UserID             float64\n",
      "ProductID            int64\n",
      "Quantity             int64\n",
      "TransactionDate     object\n",
      "TransactionID        int64\n",
      "Foo                float64\n",
      "dtype: object\n",
      "UserID                    float64\n",
      "ProductID                   int64\n",
      "Quantity                    int64\n",
      "TransactionDate    datetime64[ns]\n",
      "TransactionID               int64\n",
      "Foo                       float64\n",
      "dtype: object\n"
     ]
    }
   ],
   "source": [
    "\n",
    "# 36. Convert the TransactionDate column to type Date\n",
    "# df['Foo'] = df['UserID'].astype(str)\n",
    "print(df.dtypes)\n",
    "df['TransactionDate'] = pd.to_datetime(df['TransactionDate'])\n",
    "print(df.dtypes)"
   ]
  },
  {
   "cell_type": "code",
   "execution_count": 143,
   "metadata": {},
   "outputs": [
    {
     "name": "stdout",
     "output_type": "stream",
     "text": [
      "   UserID  ProductID  Quantity TransactionDate  TransactionID   Foo  UseCase\n",
      "0     7.0          2         1      2010-08-21              1   9.0      0.0\n",
      "1     3.0          4         1      2011-05-26              2   7.0      0.0\n",
      "2     3.0          3         1      2011-06-16              3   6.0      0.0\n",
      "3     1.0          2         3      2012-08-26              4   3.0     -2.0\n",
      "4     2.0          4         1      2013-06-06              5   6.0      0.0\n",
      "5     2.0          5         6      2013-12-23              6   7.0    -10.0\n",
      "6     3.0          4         1      2013-12-30              7   7.0      0.0\n",
      "7     NaN          2         3      2014-04-24              8   NaN      NaN\n",
      "8     7.0          4         3      2015-04-24              9  11.0    -14.0\n",
      "9     3.0          4         4      2016-05-08             10   7.0     -9.0\n"
     ]
    }
   ],
   "source": [
    "# 35. Inserting and updating values\n",
    "\n",
    "df['UseCase'] = df['UserID'] * (1 - df['Quantity'])\n",
    "print(df)"
   ]
  },
  {
   "cell_type": "code",
   "execution_count": 144,
   "metadata": {},
   "outputs": [
    {
     "name": "stdout",
     "output_type": "stream",
     "text": [
      "   ProductID TransactionDate\n",
      "0          2      2010-08-21\n",
      "1          4      2011-05-26\n",
      "2          3      2011-06-16\n",
      "3          2      2012-08-26\n",
      "4          4      2013-06-06\n",
      "5          5      2013-12-23\n",
      "6          4      2013-12-30\n",
      "7          2      2014-04-24\n",
      "8          4      2015-04-24\n",
      "9          4      2016-05-08\n"
     ]
    }
   ],
   "source": [
    "subset_df = df.iloc[:, [1, 3]]\n",
    "print(subset_df)"
   ]
  }
 ],
 "metadata": {
  "kernelspec": {
   "display_name": "Python 3",
   "language": "python",
   "name": "python3"
  },
  "language_info": {
   "codemirror_mode": {
    "name": "ipython",
    "version": 3
   },
   "file_extension": ".py",
   "mimetype": "text/x-python",
   "name": "python",
   "nbconvert_exporter": "python",
   "pygments_lexer": "ipython3",
   "version": "3.8.10"
  }
 },
 "nbformat": 4,
 "nbformat_minor": 4
}
